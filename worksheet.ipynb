{
 "cells": [
  {
   "cell_type": "code",
   "execution_count": 5,
   "id": "45439dff",
   "metadata": {},
   "outputs": [],
   "source": [
    "import pandas as pd\n",
    "from urllib.request import urlretrieve\n",
    "from urllib.request import urlopen, Request"
   ]
  },
  {
   "cell_type": "code",
   "execution_count": 6,
   "id": "90c1dd27",
   "metadata": {},
   "outputs": [
    {
     "data": {
      "text/plain": [
       "('texts.csv', <http.client.HTTPMessage at 0x2577a86b130>)"
      ]
     },
     "execution_count": 6,
     "metadata": {},
     "output_type": "execute_result"
    }
   ],
   "source": [
    "url = 'https://github.com/selimfirat/bilkent-turkish-writings-dataset/blob/master/data/texts.csv?raw=true'\n",
    "urlretrieve(url, 'texts.csv')"
   ]
  },
  {
   "cell_type": "code",
   "execution_count": 121,
   "id": "5853abb6",
   "metadata": {},
   "outputs": [
    {
     "data": {
      "text/html": [
       "<div>\n",
       "<style scoped>\n",
       "    .dataframe tbody tr th:only-of-type {\n",
       "        vertical-align: middle;\n",
       "    }\n",
       "\n",
       "    .dataframe tbody tr th {\n",
       "        vertical-align: top;\n",
       "    }\n",
       "\n",
       "    .dataframe thead th {\n",
       "        text-align: right;\n",
       "    }\n",
       "</style>\n",
       "<table border=\"1\" class=\"dataframe\">\n",
       "  <thead>\n",
       "    <tr style=\"text-align: right;\">\n",
       "      <th></th>\n",
       "      <th>text</th>\n",
       "    </tr>\n",
       "  </thead>\n",
       "  <tbody>\n",
       "    <tr>\n",
       "      <th>0</th>\n",
       "      <td>BATUHAN ERDURCAN \\r\\n21301855 \\r\\nTURK 101-13 ...</td>\n",
       "    </tr>\n",
       "    <tr>\n",
       "      <th>1</th>\n",
       "      <td>\\r\\nYalçın Arslan \\r\\n21300458 \\r\\nAslı Uçar ...</td>\n",
       "    </tr>\n",
       "    <tr>\n",
       "      <th>2</th>\n",
       "      <td>Sudenur SOYSAL \\r\\nGÜZELLİK Mİ ÇİRKİNLİK Mİ HA...</td>\n",
       "    </tr>\n",
       "    <tr>\n",
       "      <th>3</th>\n",
       "      <td>Mars’ta Yaşam mı? \\r\\n \\r\\nHayatım boyunca evr...</td>\n",
       "    </tr>\n",
       "    <tr>\n",
       "      <th>4</th>\n",
       "      <td>Bir Şehrin İki Yakasında \\r\\n \\r\\n\"İki büyük c...</td>\n",
       "    </tr>\n",
       "    <tr>\n",
       "      <th>...</th>\n",
       "      <td>...</td>\n",
       "    </tr>\n",
       "    <tr>\n",
       "      <th>6839</th>\n",
       "      <td>Dilruba Nilhan Kutlu \\r\\n \\r\\n \\r\\nHAMARAT BRA...</td>\n",
       "    </tr>\n",
       "    <tr>\n",
       "      <th>6840</th>\n",
       "      <td>...</td>\n",
       "    </tr>\n",
       "    <tr>\n",
       "      <th>6841</th>\n",
       "      <td>Yumuşacık Bir Animasyon \\r\\nAnimasyona Giden Y...</td>\n",
       "    </tr>\n",
       "    <tr>\n",
       "      <th>6842</th>\n",
       "      <td>İlteriş Deniz Kağan CİVELEK    Türkçe 101 - 12...</td>\n",
       "    </tr>\n",
       "    <tr>\n",
       "      <th>6843</th>\n",
       "      <td>Altuğ Kaya\\r\\nTebessüm...\\r\\n \\r\\nhttp://www.d...</td>\n",
       "    </tr>\n",
       "  </tbody>\n",
       "</table>\n",
       "<p>6844 rows × 1 columns</p>\n",
       "</div>"
      ],
      "text/plain": [
       "                                                   text\n",
       "0     BATUHAN ERDURCAN \\r\\n21301855 \\r\\nTURK 101-13 ...\n",
       "1      \\r\\nYalçın Arslan \\r\\n21300458 \\r\\nAslı Uçar ...\n",
       "2     Sudenur SOYSAL \\r\\nGÜZELLİK Mİ ÇİRKİNLİK Mİ HA...\n",
       "3     Mars’ta Yaşam mı? \\r\\n \\r\\nHayatım boyunca evr...\n",
       "4     Bir Şehrin İki Yakasında \\r\\n \\r\\n\"İki büyük c...\n",
       "...                                                 ...\n",
       "6839  Dilruba Nilhan Kutlu \\r\\n \\r\\n \\r\\nHAMARAT BRA...\n",
       "6840                                                ...\n",
       "6841  Yumuşacık Bir Animasyon \\r\\nAnimasyona Giden Y...\n",
       "6842  İlteriş Deniz Kağan CİVELEK    Türkçe 101 - 12...\n",
       "6843  Altuğ Kaya\\r\\nTebessüm...\\r\\n \\r\\nhttp://www.d...\n",
       "\n",
       "[6844 rows x 1 columns]"
      ]
     },
     "execution_count": 121,
     "metadata": {},
     "output_type": "execute_result"
    }
   ],
   "source": [
    "data = pd.read_csv('texts.csv', sep=',', index_col=0, na_values='NaN')\n",
    "data"
   ]
  },
  {
   "cell_type": "code",
   "execution_count": 124,
   "id": "95400eba",
   "metadata": {},
   "outputs": [],
   "source": [
    "data.dropna(inplace=True)"
   ]
  },
  {
   "cell_type": "code",
   "execution_count": 125,
   "id": "ecf6ca47",
   "metadata": {},
   "outputs": [],
   "source": [
    "def process(text):\n",
    "    return ''.join([x for x in text.split('\\n') if len(x.strip())>20]).replace('\\r','')"
   ]
  },
  {
   "cell_type": "code",
   "execution_count": 126,
   "id": "1037fd7f",
   "metadata": {},
   "outputs": [],
   "source": [
    "data['text'] = data['text'].apply(process)"
   ]
  },
  {
   "cell_type": "code",
   "execution_count": 127,
   "id": "d35b474b",
   "metadata": {},
   "outputs": [
    {
     "data": {
      "text/html": [
       "<div>\n",
       "<style scoped>\n",
       "    .dataframe tbody tr th:only-of-type {\n",
       "        vertical-align: middle;\n",
       "    }\n",
       "\n",
       "    .dataframe tbody tr th {\n",
       "        vertical-align: top;\n",
       "    }\n",
       "\n",
       "    .dataframe thead th {\n",
       "        text-align: right;\n",
       "    }\n",
       "</style>\n",
       "<table border=\"1\" class=\"dataframe\">\n",
       "  <thead>\n",
       "    <tr style=\"text-align: right;\">\n",
       "      <th></th>\n",
       "      <th>text</th>\n",
       "    </tr>\n",
       "  </thead>\n",
       "  <tbody>\n",
       "    <tr>\n",
       "      <th>0</th>\n",
       "      <td>DEĞİŞEN EVRENSEL BİR İKON             Marilyn ...</td>\n",
       "    </tr>\n",
       "    <tr>\n",
       "      <th>1</th>\n",
       "      <td>Ben ölüm... Herkes korkar benden. Herkes tar...</td>\n",
       "    </tr>\n",
       "    <tr>\n",
       "      <th>2</th>\n",
       "      <td>GÜZELLİK Mİ ÇİRKİNLİK Mİ HAVUZ BAŞINDA MANKENL...</td>\n",
       "    </tr>\n",
       "    <tr>\n",
       "      <th>3</th>\n",
       "      <td>Hayatım boyunca evrende sadece Dünya’da yaşam ...</td>\n",
       "    </tr>\n",
       "    <tr>\n",
       "      <th>4</th>\n",
       "      <td>Bir Şehrin İki Yakasında \"İki büyük cihanın ke...</td>\n",
       "    </tr>\n",
       "  </tbody>\n",
       "</table>\n",
       "</div>"
      ],
      "text/plain": [
       "                                                text\n",
       "0  DEĞİŞEN EVRENSEL BİR İKON             Marilyn ...\n",
       "1    Ben ölüm... Herkes korkar benden. Herkes tar...\n",
       "2  GÜZELLİK Mİ ÇİRKİNLİK Mİ HAVUZ BAŞINDA MANKENL...\n",
       "3  Hayatım boyunca evrende sadece Dünya’da yaşam ...\n",
       "4  Bir Şehrin İki Yakasında \"İki büyük cihanın ke..."
      ]
     },
     "execution_count": 127,
     "metadata": {},
     "output_type": "execute_result"
    }
   ],
   "source": [
    "data.head()"
   ]
  },
  {
   "cell_type": "code",
   "execution_count": null,
   "id": "918fff31",
   "metadata": {},
   "outputs": [],
   "source": []
  }
 ],
 "metadata": {
  "kernelspec": {
   "display_name": "Python 3 (ipykernel)",
   "language": "python",
   "name": "python3"
  },
  "language_info": {
   "codemirror_mode": {
    "name": "ipython",
    "version": 3
   },
   "file_extension": ".py",
   "mimetype": "text/x-python",
   "name": "python",
   "nbconvert_exporter": "python",
   "pygments_lexer": "ipython3",
   "version": "3.9.2"
  }
 },
 "nbformat": 4,
 "nbformat_minor": 5
}
