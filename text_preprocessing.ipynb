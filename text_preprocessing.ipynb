{
 "cells": [
  {
   "cell_type": "code",
   "execution_count": 2,
   "id": "1b6799fc",
   "metadata": {},
   "outputs": [],
   "source": [
    "#import necessary modules\n",
    "import pandas as pd\n",
    "import numpy as np"
   ]
  },
  {
   "cell_type": "code",
   "execution_count": 3,
   "id": "96f1608b",
   "metadata": {},
   "outputs": [
    {
     "data": {
      "text/html": [
       "<div>\n",
       "<style scoped>\n",
       "    .dataframe tbody tr th:only-of-type {\n",
       "        vertical-align: middle;\n",
       "    }\n",
       "\n",
       "    .dataframe tbody tr th {\n",
       "        vertical-align: top;\n",
       "    }\n",
       "\n",
       "    .dataframe thead th {\n",
       "        text-align: right;\n",
       "    }\n",
       "</style>\n",
       "<table border=\"1\" class=\"dataframe\">\n",
       "  <thead>\n",
       "    <tr style=\"text-align: right;\">\n",
       "      <th></th>\n",
       "      <th>text</th>\n",
       "    </tr>\n",
       "  </thead>\n",
       "  <tbody>\n",
       "    <tr>\n",
       "      <th>0</th>\n",
       "      <td>DEĞİŞEN EVRENSEL BİR İKON              Marilyn...</td>\n",
       "    </tr>\n",
       "    <tr>\n",
       "      <th>1</th>\n",
       "      <td>Ben ölüm... Herkes korkar benden. Herkes tar...</td>\n",
       "    </tr>\n",
       "    <tr>\n",
       "      <th>2</th>\n",
       "      <td>GÜZELLİK Mİ ÇİRKİNLİK Mİ HAVUZ BAŞINDA MANKENL...</td>\n",
       "    </tr>\n",
       "    <tr>\n",
       "      <th>3</th>\n",
       "      <td>Hayatım boyunca evrende sadece Dünya’da yaşam ...</td>\n",
       "    </tr>\n",
       "    <tr>\n",
       "      <th>4</th>\n",
       "      <td>Bir Şehrin İki Yakasında  \"İki büyük cihanın k...</td>\n",
       "    </tr>\n",
       "  </tbody>\n",
       "</table>\n",
       "</div>"
      ],
      "text/plain": [
       "                                                text\n",
       "0  DEĞİŞEN EVRENSEL BİR İKON              Marilyn...\n",
       "1    Ben ölüm... Herkes korkar benden. Herkes tar...\n",
       "2  GÜZELLİK Mİ ÇİRKİNLİK Mİ HAVUZ BAŞINDA MANKENL...\n",
       "3  Hayatım boyunca evrende sadece Dünya’da yaşam ...\n",
       "4  Bir Şehrin İki Yakasında  \"İki büyük cihanın k..."
      ]
     },
     "execution_count": 3,
     "metadata": {},
     "output_type": "execute_result"
    }
   ],
   "source": [
    "df = pd.read_csv('final_texts.csv', sep='\\t', index_col=0)\n",
    "df.head()"
   ]
  },
  {
   "cell_type": "code",
   "execution_count": 4,
   "id": "a841c98f",
   "metadata": {},
   "outputs": [],
   "source": [
    "df['lower'] = df['text'].str.lower()"
   ]
  },
  {
   "cell_type": "code",
   "execution_count": 5,
   "id": "2983ea5b",
   "metadata": {},
   "outputs": [],
   "source": [
    "def remove_punctuation(s):\n",
    "    for p in '!\"#$%&\\'()*+,-./:;<=>?@[\\\\]^_`{|}~':\n",
    "        s = s.replace(p, ' ')\n",
    "    if len(s) == 0:\n",
    "        return ' '\n",
    "    return s"
   ]
  },
  {
   "cell_type": "code",
   "execution_count": 6,
   "id": "b3dc6ff2",
   "metadata": {},
   "outputs": [],
   "source": [
    "df['processed'] = df['lower'].apply(remove_punctuation)"
   ]
  },
  {
   "cell_type": "code",
   "execution_count": 7,
   "id": "5662c8db",
   "metadata": {},
   "outputs": [
    {
     "data": {
      "text/html": [
       "<div>\n",
       "<style scoped>\n",
       "    .dataframe tbody tr th:only-of-type {\n",
       "        vertical-align: middle;\n",
       "    }\n",
       "\n",
       "    .dataframe tbody tr th {\n",
       "        vertical-align: top;\n",
       "    }\n",
       "\n",
       "    .dataframe thead th {\n",
       "        text-align: right;\n",
       "    }\n",
       "</style>\n",
       "<table border=\"1\" class=\"dataframe\">\n",
       "  <thead>\n",
       "    <tr style=\"text-align: right;\">\n",
       "      <th></th>\n",
       "      <th>text</th>\n",
       "      <th>lower</th>\n",
       "      <th>processed</th>\n",
       "    </tr>\n",
       "  </thead>\n",
       "  <tbody>\n",
       "    <tr>\n",
       "      <th>0</th>\n",
       "      <td>DEĞİŞEN EVRENSEL BİR İKON              Marilyn...</td>\n",
       "      <td>deği̇şen evrensel bi̇r i̇kon              mari...</td>\n",
       "      <td>deği̇şen evrensel bi̇r i̇kon              mari...</td>\n",
       "    </tr>\n",
       "    <tr>\n",
       "      <th>1</th>\n",
       "      <td>Ben ölüm... Herkes korkar benden. Herkes tar...</td>\n",
       "      <td>ben ölüm... herkes korkar benden. herkes tar...</td>\n",
       "      <td>ben ölüm    herkes korkar benden  herkes tar...</td>\n",
       "    </tr>\n",
       "    <tr>\n",
       "      <th>2</th>\n",
       "      <td>GÜZELLİK Mİ ÇİRKİNLİK Mİ HAVUZ BAŞINDA MANKENL...</td>\n",
       "      <td>güzelli̇k mi̇ çi̇rki̇nli̇k mi̇ havuz başinda m...</td>\n",
       "      <td>güzelli̇k mi̇ çi̇rki̇nli̇k mi̇ havuz başinda m...</td>\n",
       "    </tr>\n",
       "    <tr>\n",
       "      <th>3</th>\n",
       "      <td>Hayatım boyunca evrende sadece Dünya’da yaşam ...</td>\n",
       "      <td>hayatım boyunca evrende sadece dünya’da yaşam ...</td>\n",
       "      <td>hayatım boyunca evrende sadece dünya’da yaşam ...</td>\n",
       "    </tr>\n",
       "    <tr>\n",
       "      <th>4</th>\n",
       "      <td>Bir Şehrin İki Yakasında  \"İki büyük cihanın k...</td>\n",
       "      <td>bir şehrin i̇ki yakasında  \"i̇ki büyük cihanın...</td>\n",
       "      <td>bir şehrin i̇ki yakasında   i̇ki büyük cihanın...</td>\n",
       "    </tr>\n",
       "  </tbody>\n",
       "</table>\n",
       "</div>"
      ],
      "text/plain": [
       "                                                text  \\\n",
       "0  DEĞİŞEN EVRENSEL BİR İKON              Marilyn...   \n",
       "1    Ben ölüm... Herkes korkar benden. Herkes tar...   \n",
       "2  GÜZELLİK Mİ ÇİRKİNLİK Mİ HAVUZ BAŞINDA MANKENL...   \n",
       "3  Hayatım boyunca evrende sadece Dünya’da yaşam ...   \n",
       "4  Bir Şehrin İki Yakasında  \"İki büyük cihanın k...   \n",
       "\n",
       "                                               lower  \\\n",
       "0  deği̇şen evrensel bi̇r i̇kon              mari...   \n",
       "1    ben ölüm... herkes korkar benden. herkes tar...   \n",
       "2  güzelli̇k mi̇ çi̇rki̇nli̇k mi̇ havuz başinda m...   \n",
       "3  hayatım boyunca evrende sadece dünya’da yaşam ...   \n",
       "4  bir şehrin i̇ki yakasında  \"i̇ki büyük cihanın...   \n",
       "\n",
       "                                           processed  \n",
       "0  deği̇şen evrensel bi̇r i̇kon              mari...  \n",
       "1    ben ölüm    herkes korkar benden  herkes tar...  \n",
       "2  güzelli̇k mi̇ çi̇rki̇nli̇k mi̇ havuz başinda m...  \n",
       "3  hayatım boyunca evrende sadece dünya’da yaşam ...  \n",
       "4  bir şehrin i̇ki yakasında   i̇ki büyük cihanın...  "
      ]
     },
     "execution_count": 7,
     "metadata": {},
     "output_type": "execute_result"
    }
   ],
   "source": [
    "df.head()"
   ]
  },
  {
   "cell_type": "code",
   "execution_count": null,
   "id": "b9ae757c",
   "metadata": {},
   "outputs": [],
   "source": []
  }
 ],
 "metadata": {
  "kernelspec": {
   "display_name": "Python 3 (ipykernel)",
   "language": "python",
   "name": "python3"
  },
  "language_info": {
   "codemirror_mode": {
    "name": "ipython",
    "version": 3
   },
   "file_extension": ".py",
   "mimetype": "text/x-python",
   "name": "python",
   "nbconvert_exporter": "python",
   "pygments_lexer": "ipython3",
   "version": "3.9.2"
  }
 },
 "nbformat": 4,
 "nbformat_minor": 5
}
