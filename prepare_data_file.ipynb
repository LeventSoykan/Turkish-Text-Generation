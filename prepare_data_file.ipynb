{
 "cells": [
  {
   "cell_type": "code",
   "execution_count": 22,
   "id": "45439dff",
   "metadata": {},
   "outputs": [],
   "source": [
    "import pandas as pd\n",
    "from urllib.request import urlretrieve\n",
    "from urllib.request import urlopen, Request"
   ]
  },
  {
   "cell_type": "code",
   "execution_count": null,
   "id": "90c1dd27",
   "metadata": {},
   "outputs": [],
   "source": [
    "url = 'https://github.com/selimfirat/bilkent-turkish-writings-dataset/blob/master/data/texts.csv?raw=true'\n",
    "urlretrieve(url, 'texts.csv')"
   ]
  },
  {
   "cell_type": "code",
   "execution_count": null,
   "id": "5853abb6",
   "metadata": {},
   "outputs": [],
   "source": [
    "data = pd.read_csv('texts.csv', sep=',', index_col=0, na_values='NaN')\n",
    "data"
   ]
  },
  {
   "cell_type": "code",
   "execution_count": null,
   "id": "95400eba",
   "metadata": {},
   "outputs": [],
   "source": [
    "data.dropna(inplace=True)"
   ]
  },
  {
   "cell_type": "code",
   "execution_count": null,
   "id": "ecf6ca47",
   "metadata": {},
   "outputs": [],
   "source": [
    "def process(text):\n",
    "    return ''.join([x for x in text.split('\\n') if len(x.strip())>20]).replace('\\r',' ')"
   ]
  },
  {
   "cell_type": "code",
   "execution_count": null,
   "id": "1037fd7f",
   "metadata": {},
   "outputs": [],
   "source": [
    "data['text'] = data['text'].apply(process)"
   ]
  },
  {
   "cell_type": "code",
   "execution_count": null,
   "id": "d35b474b",
   "metadata": {},
   "outputs": [],
   "source": [
    "data.head()"
   ]
  },
  {
   "cell_type": "code",
   "execution_count": null,
   "id": "4479c3d2",
   "metadata": {},
   "outputs": [],
   "source": [
    "data = data[(data['text'].apply(len) != 0)]"
   ]
  },
  {
   "cell_type": "code",
   "execution_count": null,
   "id": "918fff31",
   "metadata": {},
   "outputs": [],
   "source": [
    "data['text'].apply(len).agg(['max', 'min', 'median', 'mean'])"
   ]
  },
  {
   "cell_type": "code",
   "execution_count": null,
   "id": "1f39114e",
   "metadata": {},
   "outputs": [],
   "source": [
    "data['text'].str.split().apply(len).agg(['max', 'min', 'median', 'mean'])"
   ]
  },
  {
   "cell_type": "code",
   "execution_count": null,
   "id": "913e087b",
   "metadata": {},
   "outputs": [],
   "source": [
    "data[(data['text'].str.split().apply(len) == 1)]"
   ]
  },
  {
   "cell_type": "code",
   "execution_count": null,
   "id": "bd9c6aeb",
   "metadata": {},
   "outputs": [],
   "source": []
  }
 ],
 "metadata": {
  "kernelspec": {
   "display_name": "Python 3 (ipykernel)",
   "language": "python",
   "name": "python3"
  },
  "language_info": {
   "codemirror_mode": {
    "name": "ipython",
    "version": 3
   },
   "file_extension": ".py",
   "mimetype": "text/x-python",
   "name": "python",
   "nbconvert_exporter": "python",
   "pygments_lexer": "ipython3",
   "version": "3.9.2"
  }
 },
 "nbformat": 4,
 "nbformat_minor": 5
}
