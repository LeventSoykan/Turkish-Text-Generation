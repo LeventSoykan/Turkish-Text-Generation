{
 "cells": [
  {
   "cell_type": "code",
   "execution_count": 187,
   "metadata": {},
   "outputs": [],
   "source": [
    "%%capture\n",
    "!pip install easydict\n",
    "!pip install torch\n",
    "!pip install transformers"
   ]
  },
  {
   "cell_type": "code",
   "execution_count": 250,
   "metadata": {},
   "outputs": [],
   "source": [
    "#import necessary modules\n",
    "import pandas as pd\n",
    "import numpy as np\n",
    "from functools import reduce\n",
    "import random\n",
    "import torch\n",
    "import transformers\n",
    "from torch import nn, optim\n",
    "import torch.nn.functional as F\n",
    "from tensorflow.python.eager import context\n",
    "from tensorflow.python.framework import config as tf_config\n",
    "from tensorflow.python.framework import ops\n",
    "from transformers import get_linear_schedule_with_warmup\n",
    "from tqdm import tqdm\n",
    "from easydict import EasyDict as edict\n",
    "import transformers\n",
    "import torch\n",
    "from transformers import AutoModel, AutoTokenizer, BertTokenizer\n",
    "from torch.utils.data import TensorDataset, random_split\n",
    "from torch.utils.data import DataLoader, RandomSampler, SequentialSampler\n",
    "from transformers import BertForSequenceClassification, AdamW, Adafactor, T5ForConditionalGeneration, T5Tokenizer\n",
    "from transformers import get_linear_schedule_with_warmup\n",
    "from sklearn.preprocessing import LabelEncoder\n",
    "from sklearn.metrics import accuracy_score, f1_score, recall_score\n",
    "from sklearn.metrics import classification_report\n",
    "from sklearn.metrics import confusion_matrix"
   ]
  },
  {
   "cell_type": "code",
   "execution_count": 251,
   "metadata": {},
   "outputs": [
    {
     "data": {
      "text/html": [
       "<div>\n",
       "<style scoped>\n",
       "    .dataframe tbody tr th:only-of-type {\n",
       "        vertical-align: middle;\n",
       "    }\n",
       "\n",
       "    .dataframe tbody tr th {\n",
       "        vertical-align: top;\n",
       "    }\n",
       "\n",
       "    .dataframe thead th {\n",
       "        text-align: right;\n",
       "    }\n",
       "</style>\n",
       "<table border=\"1\" class=\"dataframe\">\n",
       "  <thead>\n",
       "    <tr style=\"text-align: right;\">\n",
       "      <th></th>\n",
       "      <th>text</th>\n",
       "    </tr>\n",
       "  </thead>\n",
       "  <tbody>\n",
       "    <tr>\n",
       "      <th>0</th>\n",
       "      <td>DEĞİŞEN EVRENSEL BİR İKON              Marilyn...</td>\n",
       "    </tr>\n",
       "    <tr>\n",
       "      <th>1</th>\n",
       "      <td>Ben ölüm... Herkes korkar benden. Herkes tar...</td>\n",
       "    </tr>\n",
       "    <tr>\n",
       "      <th>2</th>\n",
       "      <td>GÜZELLİK Mİ ÇİRKİNLİK Mİ HAVUZ BAŞINDA MANKENL...</td>\n",
       "    </tr>\n",
       "    <tr>\n",
       "      <th>3</th>\n",
       "      <td>Hayatım boyunca evrende sadece Dünya’da yaşam ...</td>\n",
       "    </tr>\n",
       "    <tr>\n",
       "      <th>4</th>\n",
       "      <td>Bir Şehrin İki Yakasında  \"İki büyük cihanın k...</td>\n",
       "    </tr>\n",
       "  </tbody>\n",
       "</table>\n",
       "</div>"
      ],
      "text/plain": [
       "                                                text\n",
       "0  DEĞİŞEN EVRENSEL BİR İKON              Marilyn...\n",
       "1    Ben ölüm... Herkes korkar benden. Herkes tar...\n",
       "2  GÜZELLİK Mİ ÇİRKİNLİK Mİ HAVUZ BAŞINDA MANKENL...\n",
       "3  Hayatım boyunca evrende sadece Dünya’da yaşam ...\n",
       "4  Bir Şehrin İki Yakasında  \"İki büyük cihanın k..."
      ]
     },
     "execution_count": 251,
     "metadata": {},
     "output_type": "execute_result"
    }
   ],
   "source": [
    "df = pd.read_csv('final_texts.csv', sep='\\t', index_col=0)\n",
    "df.head()"
   ]
  },
  {
   "cell_type": "code",
   "execution_count": 252,
   "metadata": {},
   "outputs": [],
   "source": [
    "df['lowercase'] = df['text'].str.lower()"
   ]
  },
  {
   "cell_type": "code",
   "execution_count": 253,
   "metadata": {},
   "outputs": [
    {
     "data": {
      "text/html": [
       "<div>\n",
       "<style scoped>\n",
       "    .dataframe tbody tr th:only-of-type {\n",
       "        vertical-align: middle;\n",
       "    }\n",
       "\n",
       "    .dataframe tbody tr th {\n",
       "        vertical-align: top;\n",
       "    }\n",
       "\n",
       "    .dataframe thead th {\n",
       "        text-align: right;\n",
       "    }\n",
       "</style>\n",
       "<table border=\"1\" class=\"dataframe\">\n",
       "  <thead>\n",
       "    <tr style=\"text-align: right;\">\n",
       "      <th></th>\n",
       "      <th>text</th>\n",
       "      <th>lowercase</th>\n",
       "    </tr>\n",
       "  </thead>\n",
       "  <tbody>\n",
       "    <tr>\n",
       "      <th>0</th>\n",
       "      <td>DEĞİŞEN EVRENSEL BİR İKON              Marilyn...</td>\n",
       "      <td>deği̇şen evrensel bi̇r i̇kon              mari...</td>\n",
       "    </tr>\n",
       "    <tr>\n",
       "      <th>1</th>\n",
       "      <td>Ben ölüm... Herkes korkar benden. Herkes tar...</td>\n",
       "      <td>ben ölüm... herkes korkar benden. herkes tar...</td>\n",
       "    </tr>\n",
       "    <tr>\n",
       "      <th>2</th>\n",
       "      <td>GÜZELLİK Mİ ÇİRKİNLİK Mİ HAVUZ BAŞINDA MANKENL...</td>\n",
       "      <td>güzelli̇k mi̇ çi̇rki̇nli̇k mi̇ havuz başinda m...</td>\n",
       "    </tr>\n",
       "    <tr>\n",
       "      <th>3</th>\n",
       "      <td>Hayatım boyunca evrende sadece Dünya’da yaşam ...</td>\n",
       "      <td>hayatım boyunca evrende sadece dünya’da yaşam ...</td>\n",
       "    </tr>\n",
       "    <tr>\n",
       "      <th>4</th>\n",
       "      <td>Bir Şehrin İki Yakasında  \"İki büyük cihanın k...</td>\n",
       "      <td>bir şehrin i̇ki yakasında  \"i̇ki büyük cihanın...</td>\n",
       "    </tr>\n",
       "  </tbody>\n",
       "</table>\n",
       "</div>"
      ],
      "text/plain": [
       "                                                text  \\\n",
       "0  DEĞİŞEN EVRENSEL BİR İKON              Marilyn...   \n",
       "1    Ben ölüm... Herkes korkar benden. Herkes tar...   \n",
       "2  GÜZELLİK Mİ ÇİRKİNLİK Mİ HAVUZ BAŞINDA MANKENL...   \n",
       "3  Hayatım boyunca evrende sadece Dünya’da yaşam ...   \n",
       "4  Bir Şehrin İki Yakasında  \"İki büyük cihanın k...   \n",
       "\n",
       "                                           lowercase  \n",
       "0  deği̇şen evrensel bi̇r i̇kon              mari...  \n",
       "1    ben ölüm... herkes korkar benden. herkes tar...  \n",
       "2  güzelli̇k mi̇ çi̇rki̇nli̇k mi̇ havuz başinda m...  \n",
       "3  hayatım boyunca evrende sadece dünya’da yaşam ...  \n",
       "4  bir şehrin i̇ki yakasında  \"i̇ki büyük cihanın...  "
      ]
     },
     "execution_count": 253,
     "metadata": {},
     "output_type": "execute_result"
    }
   ],
   "source": [
    "df.head()"
   ]
  },
  {
   "cell_type": "code",
   "execution_count": 254,
   "metadata": {},
   "outputs": [],
   "source": [
    "whole_text = reduce(lambda x,y: x+'\\n'+y, df['lowercase'].values)"
   ]
  },
  {
   "cell_type": "code",
   "execution_count": 193,
   "metadata": {},
   "outputs": [
    {
     "data": {
      "text/plain": [
       "'deği̇şen evrensel bi̇r i̇kon              marilyn monroe akıllarda hep güzel sarışın olarak kaldı. m'"
      ]
     },
     "execution_count": 193,
     "metadata": {},
     "output_type": "execute_result"
    }
   ],
   "source": [
    "whole_text[:100]"
   ]
  },
  {
   "cell_type": "code",
   "execution_count": 217,
   "metadata": {},
   "outputs": [],
   "source": [
    "chars = tuple(set(whole_text))\n",
    "int2char = dict(enumerate(chars))\n",
    "char2int = {ch: ii for ii, ch in int2char.items()}"
   ]
  },
  {
   "cell_type": "code",
   "execution_count": 218,
   "metadata": {},
   "outputs": [
    {
     "name": "stdout",
     "output_type": "stream",
     "text": [
      "[(0, '!'), (1, '—'), (2, 'δ'), (3, '\"'), (4, '‐'), (5, '<'), (6, '/'), (7, '‑'), (8, '̆'), (9, 'p'), (10, '…'), (11, 'x'), (12, 'ứ'), (13, 'ï'), (14, 'ş')]\n"
     ]
    }
   ],
   "source": [
    "print(list(int2char.items())[:15])"
   ]
  },
  {
   "cell_type": "code",
   "execution_count": 219,
   "metadata": {},
   "outputs": [
    {
     "name": "stdout",
     "output_type": "stream",
     "text": [
      "[('!', 0), ('—', 1), ('δ', 2), ('\"', 3), ('‐', 4), ('<', 5), ('/', 6), ('‑', 7), ('̆', 8), ('p', 9), ('…', 10), ('x', 11), ('ứ', 12), ('ï', 13), ('ş', 14)]\n"
     ]
    }
   ],
   "source": [
    "print(list(char2int.items())[:15])"
   ]
  },
  {
   "cell_type": "code",
   "execution_count": 220,
   "metadata": {},
   "outputs": [
    {
     "data": {
      "text/plain": [
       "array([ 98,  34,  25,  69,  43,  14,  34, 117,  79,  34,  46, 157,  34,\n",
       "       117, 152,  34,  18,  79, 144,  69,  43, 157,  79,  69,  43, 149,\n",
       "        52, 117,  79,  79,  79,  79,  79,  79,  79,  79,  79,  79,  79,\n",
       "        79,  79,  79,  56,  90, 157,  69,  18,  93, 117,  79])"
      ]
     },
     "execution_count": 220,
     "metadata": {},
     "output_type": "execute_result"
    }
   ],
   "source": [
    "encoded = np.array([char2int[ch] for ch in whole_text])\n",
    "encoded[:50]"
   ]
  },
  {
   "cell_type": "code",
   "execution_count": 221,
   "metadata": {},
   "outputs": [
    {
     "name": "stdout",
     "output_type": "stream",
     "text": [
      "Text_Length:30417478 - Token Count: 169\n"
     ]
    }
   ],
   "source": [
    "print(f'Text_Length:{len(whole_text)} - Token Count: {len(char2int)}')"
   ]
  },
  {
   "cell_type": "code",
   "execution_count": 222,
   "metadata": {},
   "outputs": [],
   "source": [
    "def get_batches(arr, batch_size, seq_length):\n",
    "    \n",
    "    batch_size_total = batch_size * seq_length\n",
    "    # total number of batches we can make\n",
    "    n_batches = len(arr)//batch_size_total\n",
    "    \n",
    "    # Keep only enough characters to make full batches\n",
    "    arr = arr[:n_batches * batch_size_total]\n",
    "    # Reshape into batch_size rows\n",
    "    arr = arr.reshape((batch_size, -1))\n",
    "    \n",
    "    # iterate through the array, one sequence at a time\n",
    "    for n in range(0, arr.shape[1], seq_length):\n",
    "        # The features\n",
    "        x = arr[:, n:n+seq_length]\n",
    "        # The targets, shifted by one\n",
    "        y = np.zeros_like(x)\n",
    "        try:\n",
    "            y[:, :-1], y[:, -1] = x[:, 1:], arr[:, n+seq_length]\n",
    "        except IndexError:\n",
    "            y[:, :-1], y[:, -1] = x[:, 1:], arr[:, 0]\n",
    "        yield x, y"
   ]
  },
  {
   "cell_type": "code",
   "execution_count": 223,
   "metadata": {},
   "outputs": [
    {
     "data": {
      "text/plain": [
       "(array([[ 98,  34,  25,  69,  43,  14,  34, 117,  79,  34],\n",
       "        [151,  69, 151,  79, 144,  69, 157,  79,  34, 152],\n",
       "        [144,  69, 157,  79,  79,  93,  90, 158,  95, 152],\n",
       "        [  9,  89,  79,  79, 109,  79,  52,  18,  56,  90],\n",
       "        [ 34,  46, 157,  69,  56,  59,  79, 149, 132,  14]]),\n",
       " array([[ 34,  25,  69,  43,  14,  34, 117,  79,  34,  46],\n",
       "        [ 69, 151,  79, 144,  69, 157,  79,  34, 152,  69],\n",
       "        [ 69, 157,  79,  79,  93,  90, 158,  95, 152,  95],\n",
       "        [ 89,  79,  79, 109,  79,  52,  18,  56,  90, 152],\n",
       "        [ 46, 157,  69,  56,  59,  79, 149, 132,  14,  90]]))"
      ]
     },
     "execution_count": 223,
     "metadata": {},
     "output_type": "execute_result"
    }
   ],
   "source": [
    "next(get_batches(encoded, 5,10))"
   ]
  },
  {
   "cell_type": "code",
   "execution_count": 224,
   "metadata": {},
   "outputs": [],
   "source": [
    "def one_hot_encode(arr, n_labels):\n",
    "    \n",
    "    # Initialize the the encoded array\n",
    "    one_hot = np.zeros((arr.size, n_labels), dtype=np.float32)\n",
    "    \n",
    "    # Fill the appropriate elements with ones\n",
    "    one_hot[np.arange(one_hot.shape[0]), arr.flatten()] = 1.\n",
    "    \n",
    "    # Finally reshape it to get back to the original array\n",
    "    one_hot = one_hot.reshape((*arr.shape, n_labels))\n",
    "    \n",
    "    return one_hot"
   ]
  },
  {
   "cell_type": "code",
   "execution_count": 225,
   "metadata": {},
   "outputs": [],
   "source": [
    "conf = edict()\n",
    "conf.seed_val = 1903\n",
    "conf.batch_size = 16\n",
    "conf.seq_length = 100\n",
    "conf.use_gpu = True\n",
    "conf.vocab_size = len(int2char)\n",
    "conf.weight_decay = 0.001\n",
    "conf.learning_rate = 5e-4\n",
    "conf.warmup_steps = 20000\n",
    "conf.epochs = 20\n",
    "conf.gradient_clip = 2"
   ]
  },
  {
   "cell_type": "code",
   "execution_count": 226,
   "metadata": {},
   "outputs": [],
   "source": [
    "random.seed(conf.seed_val)\n",
    "np.random.seed(conf.seed_val)\n",
    "torch.manual_seed(conf.seed_val)\n",
    "torch.cuda.manual_seed_all(conf.seed_val)"
   ]
  },
  {
   "cell_type": "code",
   "execution_count": 227,
   "metadata": {},
   "outputs": [],
   "source": [
    "class CharRNN(nn.Module):\n",
    "    \n",
    "    def __init__(self, tokens, n_hidden=256, n_layers=2,\n",
    "                               drop_prob=0.5, lr=0.001):\n",
    "        super().__init__()\n",
    "        self.drop_prob = drop_prob\n",
    "        self.n_layers = n_layers\n",
    "        self.n_hidden = n_hidden\n",
    "        self.lr = lr\n",
    "        \n",
    "        # creating character dictionaries\n",
    "        self.chars = tokens\n",
    "        self.int2char = dict(enumerate(self.chars))\n",
    "        self.char2int = {ch: ii for ii, ch in self.int2char.items()}\n",
    "        \n",
    "        ## TODO: define the LSTM\n",
    "        self.lstm = nn.LSTM(len(self.chars), n_hidden, n_layers, \n",
    "                            dropout=drop_prob, batch_first=True)\n",
    "        \n",
    "        ## TODO: define a dropout layer\n",
    "        self.dropout = nn.Dropout(drop_prob)\n",
    "        \n",
    "        ## TODO: define the final, fully-connected output layer\n",
    "        self.fc = nn.Linear(n_hidden, len(self.chars))\n",
    "      \n",
    "    \n",
    "    def forward(self, x, hidden):\n",
    "        ''' Forward pass through the network. \n",
    "            These inputs are x, and the hidden/cell state `hidden`. '''\n",
    "                \n",
    "        ## TODO: Get the outputs and the new hidden state from the lstm\n",
    "        r_output, hidden = self.lstm(x, hidden)\n",
    "        \n",
    "        ## TODO: pass through a dropout layer\n",
    "        out = self.dropout(r_output)\n",
    "        \n",
    "        # Stack up LSTM outputs using view\n",
    "        # you may need to use contiguous to reshape the output\n",
    "        out = out.contiguous().view(-1, self.n_hidden)\n",
    "        \n",
    "        ## TODO: put x through the fully-connected layer\n",
    "        out = self.fc(out)\n",
    "        \n",
    "        # return the final output and the hidden state\n",
    "        return out, hidden\n",
    "    \n",
    "    \n",
    "    def init_hidden(self, batch_size):\n",
    "        ''' Initializes hidden state '''\n",
    "        # Create two new tensors with sizes n_layers x batch_size x n_hidden,\n",
    "        # initialized to zero, for hidden state and cell state of LSTM\n",
    "        weight = next(self.parameters()).data\n",
    "        \n",
    "        if (train_on_gpu):\n",
    "            hidden = (weight.new(self.n_layers, batch_size, self.n_hidden).zero_().cuda(),\n",
    "                  weight.new(self.n_layers, batch_size, self.n_hidden).zero_().cuda())\n",
    "        else:\n",
    "            hidden = (weight.new(self.n_layers, batch_size, self.n_hidden).zero_(),\n",
    "                      weight.new(self.n_layers, batch_size, self.n_hidden).zero_())\n",
    "        \n",
    "        return hidden"
   ]
  },
  {
   "cell_type": "code",
   "execution_count": 240,
   "metadata": {},
   "outputs": [],
   "source": [
    "def train(net, data, epochs=10, batch_size=10, seq_length=50, lr=0.001, clip=5, val_frac=0.1, print_every=500):\n",
    "    ''' Training a network \n",
    "    \n",
    "        Arguments\n",
    "        ---------\n",
    "        \n",
    "        net: CharRNN network\n",
    "        data: text data to train the network\n",
    "        epochs: Number of epochs to train\n",
    "        batch_size: Number of mini-sequences per mini-batch, aka batch size\n",
    "        seq_length: Number of character steps per mini-batch\n",
    "        lr: learning rate\n",
    "        clip: gradient clipping\n",
    "        val_frac: Fraction of data to hold out for validation\n",
    "        print_every: Number of steps for printing training and validation loss\n",
    "    \n",
    "    '''\n",
    "    net.train()\n",
    "    \n",
    "    opt = torch.optim.Adam(net.parameters(), lr=lr)\n",
    "    criterion = nn.CrossEntropyLoss()\n",
    "    \n",
    "    # create training and validation data\n",
    "    val_idx = int(len(data)*(1-val_frac))\n",
    "    data, val_data = data[:val_idx], data[val_idx:]\n",
    "    \n",
    "    if(train_on_gpu):\n",
    "        net.cuda()\n",
    "    \n",
    "    counter = 0\n",
    "    n_chars = len(net.chars)\n",
    "    for e in range(epochs):\n",
    "        # initialize hidden state\n",
    "        h = net.init_hidden(batch_size)\n",
    "        \n",
    "        for x, y in get_batches(data, batch_size, seq_length):\n",
    "            counter += 1\n",
    "            \n",
    "            # One-hot encode our data and make them Torch tensors\n",
    "            x = one_hot_encode(x, n_chars)\n",
    "            inputs, targets = torch.from_numpy(x), torch.from_numpy(y)\n",
    "            \n",
    "            if(train_on_gpu):\n",
    "                inputs, targets = inputs.cuda(), targets.cuda()\n",
    "\n",
    "            # Creating new variables for the hidden state, otherwise\n",
    "            # we'd backprop through the entire training history\n",
    "            h = tuple([each.data for each in h])\n",
    "\n",
    "            # zero accumulated gradients\n",
    "            net.zero_grad()\n",
    "            \n",
    "            # get the output from the model\n",
    "            output, h = net(inputs, h)\n",
    "            \n",
    "            # calculate the loss and perform backprop\n",
    "            loss = criterion(output, targets.view(batch_size*seq_length).long())\n",
    "            loss.backward()\n",
    "            # `clip_grad_norm` helps prevent the exploding gradient problem in RNNs / LSTMs.\n",
    "            nn.utils.clip_grad_norm_(net.parameters(), clip)\n",
    "            opt.step()\n",
    "        \n",
    "            \n",
    "            # loss stats\n",
    "            if counter % print_every == 0:\n",
    "                # Get validation loss\n",
    "                val_h = net.init_hidden(batch_size)\n",
    "                val_losses = []\n",
    "                net.eval()\n",
    "                for x, y in get_batches(val_data, batch_size, seq_length):\n",
    "                    # One-hot encode our data and make them Torch tensors\n",
    "                    x = one_hot_encode(x, n_chars)\n",
    "                    x, y = torch.from_numpy(x), torch.from_numpy(y)\n",
    "                    \n",
    "                    # Creating new variables for the hidden state, otherwise\n",
    "                    # we'd backprop through the entire training history\n",
    "                    val_h = tuple([each.data for each in val_h])\n",
    "                    \n",
    "                    inputs, targets = x, y\n",
    "                    if(train_on_gpu):\n",
    "                        inputs, targets = inputs.cuda(), targets.cuda()\n",
    "\n",
    "                    output, val_h = net(inputs, val_h)\n",
    "                    val_loss = criterion(output, targets.view(batch_size*seq_length).long())\n",
    "                \n",
    "                    val_losses.append(val_loss.item())\n",
    "                \n",
    "                net.train() # reset to train mode after iterationg through validation data\n",
    "                \n",
    "                print(\"Epoch: {}/{}...\".format(e+1, epochs),\n",
    "                      \"Step: {}...\".format(counter),\n",
    "                      \"Loss: {:.4f}...\".format(loss.item()),\n",
    "                      \"Val Loss: {:.4f}\".format(np.mean(val_losses)))"
   ]
  },
  {
   "cell_type": "code",
   "execution_count": 241,
   "metadata": {},
   "outputs": [
    {
     "name": "stdout",
     "output_type": "stream",
     "text": [
      "CharRNN(\n",
      "  (lstm): LSTM(169, 256, num_layers=2, batch_first=True, dropout=0.5)\n",
      "  (dropout): Dropout(p=0.5, inplace=False)\n",
      "  (fc): Linear(in_features=256, out_features=169, bias=True)\n",
      ")\n"
     ]
    }
   ],
   "source": [
    "# define and print the net\n",
    "n_hidden=256\n",
    "n_layers=2\n",
    "\n",
    "net = CharRNN(chars, n_hidden, n_layers)\n",
    "print(net)"
   ]
  },
  {
   "cell_type": "code",
   "execution_count": 242,
   "metadata": {},
   "outputs": [
    {
     "data": {
      "text/plain": [
       "2376.36546875"
      ]
     },
     "execution_count": 242,
     "metadata": {},
     "output_type": "execute_result"
    }
   ],
   "source": [
    "len(encoded)/12800"
   ]
  },
  {
   "cell_type": "code",
   "execution_count": 244,
   "metadata": {},
   "outputs": [
    {
     "name": "stdout",
     "output_type": "stream",
     "text": [
      "Epoch: 1/20... Step: 500... Loss: 2.2443... Val Loss: 2.1491\n",
      "Epoch: 1/20... Step: 1000... Loss: 1.9635... Val Loss: 1.8432\n",
      "Epoch: 1/20... Step: 1500... Loss: 1.8115... Val Loss: 1.6869\n",
      "Epoch: 1/20... Step: 2000... Loss: 1.7238... Val Loss: 1.5896\n",
      "Epoch: 2/20... Step: 2500... Loss: 1.6250... Val Loss: 1.5348\n",
      "Epoch: 2/20... Step: 3000... Loss: 1.5975... Val Loss: 1.4941\n",
      "Epoch: 2/20... Step: 3500... Loss: 1.5545... Val Loss: 1.4649\n",
      "Epoch: 2/20... Step: 4000... Loss: 1.5542... Val Loss: 1.4434\n",
      "Epoch: 3/20... Step: 4500... Loss: 1.5001... Val Loss: 1.4246\n",
      "Epoch: 3/20... Step: 5000... Loss: 1.5340... Val Loss: 1.4098\n",
      "Epoch: 3/20... Step: 5500... Loss: 1.5233... Val Loss: 1.3956\n",
      "Epoch: 3/20... Step: 6000... Loss: 1.4912... Val Loss: 1.3857\n",
      "Epoch: 4/20... Step: 6500... Loss: 1.5105... Val Loss: 1.3758\n",
      "Epoch: 4/20... Step: 7000... Loss: 1.5279... Val Loss: 1.3677\n",
      "Epoch: 4/20... Step: 7500... Loss: 1.4596... Val Loss: 1.3583\n",
      "Epoch: 4/20... Step: 8000... Loss: 1.5100... Val Loss: 1.3521\n",
      "Epoch: 4/20... Step: 8500... Loss: 1.4901... Val Loss: 1.3478\n",
      "Epoch: 5/20... Step: 9000... Loss: 1.4551... Val Loss: 1.3396\n",
      "Epoch: 5/20... Step: 9500... Loss: 1.4305... Val Loss: 1.3341\n",
      "Epoch: 5/20... Step: 10000... Loss: 1.4479... Val Loss: 1.3301\n",
      "Epoch: 5/20... Step: 10500... Loss: 1.4970... Val Loss: 1.3251\n",
      "Epoch: 6/20... Step: 11000... Loss: 1.4707... Val Loss: 1.3205\n",
      "Epoch: 6/20... Step: 11500... Loss: 1.4370... Val Loss: 1.3168\n",
      "Epoch: 6/20... Step: 12000... Loss: 1.4069... Val Loss: 1.3120\n",
      "Epoch: 6/20... Step: 12500... Loss: 1.4529... Val Loss: 1.3085\n",
      "Epoch: 7/20... Step: 13000... Loss: 1.3915... Val Loss: 1.3053\n",
      "Epoch: 7/20... Step: 13500... Loss: 1.4343... Val Loss: 1.3002\n",
      "Epoch: 7/20... Step: 14000... Loss: 1.4185... Val Loss: 1.2970\n",
      "Epoch: 7/20... Step: 14500... Loss: 1.4142... Val Loss: 1.2924\n",
      "Epoch: 8/20... Step: 15000... Loss: 1.3719... Val Loss: 1.2924\n",
      "Epoch: 8/20... Step: 15500... Loss: 1.4151... Val Loss: 1.2872\n",
      "Epoch: 8/20... Step: 16000... Loss: 1.3929... Val Loss: 1.2840\n",
      "Epoch: 8/20... Step: 16500... Loss: 1.4124... Val Loss: 1.2825\n",
      "Epoch: 8/20... Step: 17000... Loss: 1.4129... Val Loss: 1.2794\n",
      "Epoch: 9/20... Step: 17500... Loss: 1.3781... Val Loss: 1.2795\n",
      "Epoch: 9/20... Step: 18000... Loss: 1.3935... Val Loss: 1.2753\n",
      "Epoch: 9/20... Step: 18500... Loss: 1.3711... Val Loss: 1.2741\n",
      "Epoch: 9/20... Step: 19000... Loss: 1.3892... Val Loss: 1.2723\n",
      "Epoch: 10/20... Step: 19500... Loss: 1.3964... Val Loss: 1.2713\n",
      "Epoch: 10/20... Step: 20000... Loss: 1.3644... Val Loss: 1.2687\n",
      "Epoch: 10/20... Step: 20500... Loss: 1.3264... Val Loss: 1.2659\n",
      "Epoch: 10/20... Step: 21000... Loss: 1.3534... Val Loss: 1.2650\n",
      "Epoch: 11/20... Step: 21500... Loss: 1.3828... Val Loss: 1.2650\n",
      "Epoch: 11/20... Step: 22000... Loss: 1.3716... Val Loss: 1.2619\n",
      "Epoch: 11/20... Step: 22500... Loss: 1.3537... Val Loss: 1.2609\n",
      "Epoch: 11/20... Step: 23000... Loss: 1.3684... Val Loss: 1.2600\n",
      "Epoch: 11/20... Step: 23500... Loss: 1.3965... Val Loss: 1.2581\n",
      "Epoch: 12/20... Step: 24000... Loss: 1.3588... Val Loss: 1.2566\n",
      "Epoch: 12/20... Step: 24500... Loss: 1.3833... Val Loss: 1.2543\n",
      "Epoch: 12/20... Step: 25000... Loss: 1.3559... Val Loss: 1.2536\n",
      "Epoch: 12/20... Step: 25500... Loss: 1.3777... Val Loss: 1.2533\n",
      "Epoch: 13/20... Step: 26000... Loss: 1.3685... Val Loss: 1.2512\n",
      "Epoch: 13/20... Step: 26500... Loss: 1.3547... Val Loss: 1.2509\n",
      "Epoch: 13/20... Step: 27000... Loss: 1.3487... Val Loss: 1.2476\n",
      "Epoch: 13/20... Step: 27500... Loss: 1.3756... Val Loss: 1.2468\n",
      "Epoch: 14/20... Step: 28000... Loss: 1.3396... Val Loss: 1.2455\n",
      "Epoch: 14/20... Step: 28500... Loss: 1.3451... Val Loss: 1.2443\n",
      "Epoch: 14/20... Step: 29000... Loss: 1.3438... Val Loss: 1.2441\n",
      "Epoch: 14/20... Step: 29500... Loss: 1.3375... Val Loss: 1.2435\n",
      "Epoch: 15/20... Step: 30000... Loss: 1.3181... Val Loss: 1.2422\n",
      "Epoch: 15/20... Step: 30500... Loss: 1.4074... Val Loss: 1.2414\n",
      "Epoch: 15/20... Step: 31000... Loss: 1.3419... Val Loss: 1.2395\n",
      "Epoch: 15/20... Step: 31500... Loss: 1.3052... Val Loss: 1.2390\n",
      "Epoch: 15/20... Step: 32000... Loss: 1.3364... Val Loss: 1.2390\n",
      "Epoch: 16/20... Step: 32500... Loss: 1.3099... Val Loss: 1.2380\n",
      "Epoch: 16/20... Step: 33000... Loss: 1.3586... Val Loss: 1.2359\n",
      "Epoch: 16/20... Step: 33500... Loss: 1.3307... Val Loss: 1.2357\n",
      "Epoch: 16/20... Step: 34000... Loss: 1.3361... Val Loss: 1.2355\n",
      "Epoch: 17/20... Step: 34500... Loss: 1.3482... Val Loss: 1.2350\n",
      "Epoch: 17/20... Step: 35000... Loss: 1.3149... Val Loss: 1.2348\n",
      "Epoch: 17/20... Step: 35500... Loss: 1.3478... Val Loss: 1.2322\n",
      "Epoch: 17/20... Step: 36000... Loss: 1.3376... Val Loss: 1.2318\n",
      "Epoch: 18/20... Step: 36500... Loss: 1.3294... Val Loss: 1.2320\n",
      "Epoch: 18/20... Step: 37000... Loss: 1.3400... Val Loss: 1.2305\n",
      "Epoch: 18/20... Step: 37500... Loss: 1.3562... Val Loss: 1.2306\n",
      "Epoch: 18/20... Step: 38000... Loss: 1.3073... Val Loss: 1.2300\n",
      "Epoch: 19/20... Step: 38500... Loss: 1.3068... Val Loss: 1.2284\n",
      "Epoch: 19/20... Step: 39000... Loss: 1.3228... Val Loss: 1.2273\n",
      "Epoch: 19/20... Step: 39500... Loss: 1.3356... Val Loss: 1.2271\n",
      "Epoch: 19/20... Step: 40000... Loss: 1.3145... Val Loss: 1.2270\n",
      "Epoch: 19/20... Step: 40500... Loss: 1.3384... Val Loss: 1.2273\n",
      "Epoch: 20/20... Step: 41000... Loss: 1.3416... Val Loss: 1.2268\n",
      "Epoch: 20/20... Step: 41500... Loss: 1.3147... Val Loss: 1.2261\n",
      "Epoch: 20/20... Step: 42000... Loss: 1.3389... Val Loss: 1.2252\n",
      "Epoch: 20/20... Step: 42500... Loss: 1.3293... Val Loss: 1.2243\n"
     ]
    }
   ],
   "source": [
    "batch_size = 128\n",
    "seq_length = 100\n",
    "n_epochs = 20 # start smaller if you are just testing initial behavior\n",
    "train_on_gpu = True\n",
    "\n",
    "# train the model\n",
    "train(net, encoded, epochs=n_epochs, batch_size=batch_size, seq_length=seq_length, lr=0.001, print_every=500)"
   ]
  },
  {
   "cell_type": "code",
   "execution_count": 245,
   "metadata": {},
   "outputs": [],
   "source": [
    "def predict(net, char, h=None, top_k=None):\n",
    "        ''' Given a character, predict the next character.\n",
    "            Returns the predicted character and the hidden state.\n",
    "        '''\n",
    "        \n",
    "        # tensor inputs\n",
    "        x = np.array([[net.char2int[char]]])\n",
    "        x = one_hot_encode(x, len(net.chars))\n",
    "        inputs = torch.from_numpy(x)\n",
    "        \n",
    "        if(train_on_gpu):\n",
    "            inputs = inputs.cuda()\n",
    "        \n",
    "        # detach hidden state from history\n",
    "        h = tuple([each.data for each in h])\n",
    "        # get the output of the model\n",
    "        out, h = net(inputs, h)\n",
    "\n",
    "        # get the character probabilities\n",
    "        p = F.softmax(out, dim=1).data\n",
    "        if(train_on_gpu):\n",
    "            p = p.cpu() # move to cpu\n",
    "        \n",
    "        # get top characters\n",
    "        if top_k is None:\n",
    "            top_ch = np.arange(len(net.chars))\n",
    "        else:\n",
    "            p, top_ch = p.topk(top_k)\n",
    "            top_ch = top_ch.numpy().squeeze()\n",
    "        \n",
    "        # select the likely next character with some element of randomness\n",
    "        p = p.numpy().squeeze()\n",
    "        char = np.random.choice(top_ch, p=p/p.sum())\n",
    "        \n",
    "        # return the encoded value of the predicted char and the hidden state\n",
    "        return net.int2char[char], h"
   ]
  },
  {
   "cell_type": "code",
   "execution_count": 246,
   "metadata": {},
   "outputs": [],
   "source": [
    "def sample(net, size, prime='The', top_k=None):\n",
    "        \n",
    "    if(train_on_gpu):\n",
    "        net.cuda()\n",
    "    else:\n",
    "        net.cpu()\n",
    "    \n",
    "    net.eval() # eval mode\n",
    "    \n",
    "    # First off, run through the prime characters\n",
    "    chars = [ch for ch in prime]\n",
    "    h = net.init_hidden(1)\n",
    "    for ch in prime:\n",
    "        char, h = predict(net, ch, h, top_k=top_k)\n",
    "\n",
    "    chars.append(char)\n",
    "    \n",
    "    # Now pass in the previous character and get a new one\n",
    "    for ii in range(size):\n",
    "        char, h = predict(net, chars[-1], h, top_k=top_k)\n",
    "        chars.append(char)\n",
    "\n",
    "    return ''.join(chars)"
   ]
  },
  {
   "cell_type": "code",
   "execution_count": 248,
   "metadata": {},
   "outputs": [
    {
     "name": "stdout",
     "output_type": "stream",
     "text": [
      "bir sabah erkenden kalkıp aydos ormanına doğru yürüdüm.      konuşmayı birbirimizi kalmadıkları anlarına koymayacağımız bir duygudur. ama bu kızın  kendi içinin bağından bağımsız olması gerekiyor bile kendimizi başkaları gibi bir şeyler var  bence. hayatınızda başarılı olduğunuz bir şekilde bir savaş yapar ve daha iyi bu da  kurulması gereken anılardan sıkılmaya başlamıştır. karşılık veriyorsunuz. kimsede  de babamın doğuyor, belki de aslında bunu bildiği kişiyi daha da doğal bırakmayacak.  hiçbir şeyi yapmış olursanız aslında kendi içinizdekiliklerin dinlenmiştir.  kendimizin yanan sorunlarla kaybolacak kadar sanki o zamanların da bile doğru olması.    hepimiz asıl değerlerimizi sevdiğiniz kadarının bir aranızda bir şekilde bir karar vermesini  değil miydi ya da bu dünyada da başımıza bu kadar durum yarının bir süreçte olmayan  kabul edilmesi de kim bu yanlış düşünceleri başlar. ancak bu dünyanın bir bakış açısına  giriyoruz.   karşı altın boyunca bekleyen bir yere kadar arayacağımızı belirtmek isteyecektir. bir  durumda benim de onların b\n"
     ]
    }
   ],
   "source": [
    "print(sample(net, 1000, prime='bir sabah erkenden kalkıp aydos ormanına doğru yürüdüm.', top_k=5))"
   ]
  },
  {
   "cell_type": "code",
   "execution_count": null,
   "metadata": {},
   "outputs": [],
   "source": []
  },
  {
   "cell_type": "code",
   "execution_count": null,
   "metadata": {},
   "outputs": [],
   "source": []
  }
 ],
 "metadata": {
  "kernelspec": {
   "display_name": "Python 3",
   "language": "python",
   "name": "python3"
  },
  "language_info": {
   "codemirror_mode": {
    "name": "ipython",
    "version": 3
   },
   "file_extension": ".py",
   "mimetype": "text/x-python",
   "name": "python",
   "nbconvert_exporter": "python",
   "pygments_lexer": "ipython3",
   "version": "3.6.9"
  }
 },
 "nbformat": 4,
 "nbformat_minor": 5
}
